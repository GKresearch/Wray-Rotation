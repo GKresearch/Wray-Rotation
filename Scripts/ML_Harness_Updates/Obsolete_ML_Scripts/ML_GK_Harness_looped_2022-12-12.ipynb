{
 "cells": [
  {
   "cell_type": "code",
   "execution_count": 29,
   "id": "253e16b5",
   "metadata": {},
   "outputs": [],
   "source": [
    "#!/usr/bin/env python3\n",
    "# -*- coding: utf-8 -*-\n",
    "\n",
    "\"\"\"\n",
    "Documentation:\n",
    "Final Updated Machine Learning Harness script for a rotation project in the Wray Lab\n",
    "author=GKennedy\n",
    "previous_author=jamesonblount\n",
    "    (see below for details) \n",
    "Date=2022 December 12th\n",
    "\n",
    "Note: this was developed from another script authored by Jameson Blount, see jb621-star/Wray-Rotation/ML-Harness-K562.py for the original\n",
    "\"\"\"\n",
    "\n",
    "\n",
    "# Importing required packages\n",
    "#Importing basic packages\n",
    "import pandas as pd\n",
    "import numpy as np\n",
    "import matplotlib.pyplot as plt\n",
    "import seaborn as sns\n",
    "\n",
    "#Importing sklearn modules\n",
    "import rfpimp\n",
    "from sklearn.linear_model import RANSACRegressor\n",
    "from sklearn.metrics import mean_squared_error,confusion_matrix, precision_score, recall_score, auc,roc_curve\n",
    "from sklearn import ensemble, linear_model, neighbors, svm, tree, neural_network\n",
    "from sklearn.linear_model import Ridge\n",
    "from sklearn.linear_model import LinearRegression\n",
    "from sklearn.preprocessing import PolynomialFeatures\n",
    "from sklearn.model_selection import train_test_split, cross_val_score\n",
    "from sklearn.pipeline import make_pipeline\n",
    "from sklearn import svm,model_selection, tree, linear_model, neighbors, naive_bayes, ensemble, discriminant_analysis, gaussian_process\n",
    "from sklearn.linear_model import LogisticRegression\n",
    "from sklearn.discriminant_analysis import LinearDiscriminantAnalysis\n",
    "from sklearn.neighbors import KNeighborsClassifier\n",
    "from sklearn.tree import DecisionTreeClassifier\n",
    "from sklearn.naive_bayes import GaussianNB\n",
    "from sklearn.svm import SVC, SVR\n",
    "from sklearn.preprocessing import OneHotEncoder\n",
    "from sklearn.compose import make_column_transformer\n",
    "from sklearn.ensemble import GradientBoostingRegressor\n",
    "from sklearn.metrics import mean_absolute_error\n",
    "from sklearn.ensemble import RandomForestClassifier, RandomForestRegressor"
   ]
  },
  {
   "cell_type": "code",
   "execution_count": 61,
   "id": "15843ee3",
   "metadata": {},
   "outputs": [
    {
     "data": {
      "text/plain": [
       "seqnames                  0\n",
       "start                     0\n",
       "end                       0\n",
       "width                     0\n",
       "strand                    0\n",
       "                         ..\n",
       "gene.y                    0\n",
       "dTSS                      0\n",
       "PhastCons                 0\n",
       "PhyloP_primates_score     0\n",
       "PhyloP_placental_score    0\n",
       "Length: 90, dtype: int64"
      ]
     },
     "execution_count": 61,
     "metadata": {},
     "output_type": "execute_result"
    }
   ],
   "source": [
    "#Loading the data and checking for missing values\n",
    "dataset=pd.read_csv('C:/Users/ictinike/Documents/WrayLab/raw_data/x_0011_df_phyloP.csv')\n",
    "dataset.isnull().sum()\n",
    "\n",
    "datasetv2 = dataset.dropna(axis=1)\n",
    "datasetv2.isnull().sum()\n",
    "# Checking the data set for any NULL values is very essential, as MLAs can not \n",
    "# handle NULL values. We have to either eliminate the records with NULL values \n",
    "# or replace them with the mean/median of the other values. we can see each of \n",
    "# the variables are printed with number of null values. This data set has no null \n",
    "# values so all are zero here."
   ]
  },
  {
   "cell_type": "code",
   "execution_count": 62,
   "id": "172b9f93",
   "metadata": {},
   "outputs": [],
   "source": [
    "test=datasetv2#[1:50,::]"
   ]
  },
  {
   "cell_type": "code",
   "execution_count": 6,
   "id": "00b07966",
   "metadata": {},
   "outputs": [
    {
     "data": {
      "text/plain": [
       "seqnames                  0\n",
       "start                     0\n",
       "end                       0\n",
       "width                     0\n",
       "strand                    0\n",
       "                         ..\n",
       "PhyloP_placental_score    0\n",
       "TAD_chr                   0\n",
       "TAD_start                 0\n",
       "TAD_end                   0\n",
       "TAD_ID                    0\n",
       "Length: 145, dtype: int64"
      ]
     },
     "execution_count": 6,
     "metadata": {},
     "output_type": "execute_result"
    }
   ],
   "source": [
    "#Read in the standard dataframe with TADs \n",
    "df2=pd.read_csv('C:/Users/Ictinike/Documents/WrayLab/raw_data/OCRs_inTADs.csv')\n",
    "df2.isnull().sum()"
   ]
  },
  {
   "cell_type": "code",
   "execution_count": 115,
   "id": "6e42351b",
   "metadata": {},
   "outputs": [
    {
     "data": {
      "text/plain": [
       "seqnames         0\n",
       "start            0\n",
       "end              0\n",
       "width            0\n",
       "strand           0\n",
       "                ..\n",
       "TAD_ID           0\n",
       "CHRPOS           0\n",
       "element_check    0\n",
       "gene_check       0\n",
       "Relationship     0\n",
       "Length: 149, dtype: int64"
      ]
     },
     "execution_count": 115,
     "metadata": {},
     "output_type": "execute_result"
    }
   ],
   "source": [
    "#Read in the Gene-Element Tad Confirmed, and Removal of off TAD gene-element pairs dataframe\n",
    "df3=pd.read_csv('C:/Users/Ictinike/Documents/WrayLab/raw_data/pipeline_data/x0011_Gene-Element_TAD_Domain_Check_No-OFF-TAD_2022-12-13.csv')\n",
    "df3.isnull().sum()"
   ]
  },
  {
   "cell_type": "code",
   "execution_count": 131,
   "id": "2bee126f",
   "metadata": {},
   "outputs": [
    {
     "data": {
      "text/plain": [
       "seqnames         0\n",
       "start            0\n",
       "end              0\n",
       "width            0\n",
       "strand           0\n",
       "                ..\n",
       "TAD_ID           0\n",
       "CHRPOS           0\n",
       "element_check    0\n",
       "gene_check       0\n",
       "Relationship     0\n",
       "Length: 149, dtype: int64"
      ]
     },
     "execution_count": 131,
     "metadata": {},
     "output_type": "execute_result"
    }
   ],
   "source": [
    "#Read in the Gene_Element TAD Confirmed Dataframe\n",
    "df4=pd.read_csv('C:/Users/Ictinike/Documents/WrayLab/raw_data/pipeline_data/x0011_Gene-Element_TAD_Domain_Check_2022-12-13.csv')\n",
    "df4.isnull().sum()"
   ]
  },
  {
   "cell_type": "code",
   "execution_count": 157,
   "id": "18687ae9",
   "metadata": {},
   "outputs": [
    {
     "data": {
      "text/plain": [
       "chromHMM_cat_longest    0\n",
       "start                   0\n",
       "end                     0\n",
       "seqnames                0\n",
       "gene_id                 0\n",
       "                       ..\n",
       "TAD_chr.y               0\n",
       "TAD_start.y             0\n",
       "TAD_end.y               0\n",
       "TAD_ID.y                0\n",
       "CHRPOS.y                0\n",
       "Length: 157, dtype: int64"
      ]
     },
     "execution_count": 157,
     "metadata": {},
     "output_type": "execute_result"
    }
   ],
   "source": [
    "#Read in the Gene-Element TAD Confirmed Promoter-Enhancer pair existing dataframe\n",
    "df5=pd.read_csv('C:/Users/Ictinike/Documents/WrayLab/raw_data/pipeline_data/x0011_Gene-Element_TAD_Domain_Check_Confirmed_Promoter-Enhancer_2022-12-14.csv')\n",
    "df5.isnull().sum()"
   ]
  },
  {
   "cell_type": "code",
   "execution_count": 158,
   "id": "b172b124",
   "metadata": {},
   "outputs": [
    {
     "data": {
      "text/plain": [
       "26721"
      ]
     },
     "execution_count": 158,
     "metadata": {},
     "output_type": "execute_result"
    }
   ],
   "source": [
    "#Assign whichever dataframe you are working with to be tested\n",
    "test=df5#.iloc#[1:5000,::]\n",
    "len(test)"
   ]
  },
  {
   "cell_type": "code",
   "execution_count": 159,
   "id": "b48bdb25",
   "metadata": {},
   "outputs": [],
   "source": [
    "# with wgCERES_score_nosig as the response vector,\n",
    "x = test[[\"DHS_prop_repeat\", \"DHS_prop_GC\", \"DHS_length\", \"n_SNV_Zhou_per_bp\", \n",
    "                    \"distanceToTSS\", \"zeta.human\", \"zeta.chimp\", \"PP_con\", \"PP_acc\", \n",
    "                    \"PhastCons\",\n",
    "                    \"chromHMM_cat_longest\", \n",
    "                    \"annotation\", \"PhyloP_primates_score\",\"Relationship\"]]\n",
    "y = test[\"wgCERES_score_nosig\"]\n",
    "x = pd.get_dummies(x, columns = ['chromHMM_cat_longest','annotation',\"Relationship\"])"
   ]
  },
  {
   "cell_type": "code",
   "execution_count": 160,
   "id": "b75198be",
   "metadata": {},
   "outputs": [],
   "source": [
    "random_state=None"
   ]
  },
  {
   "cell_type": "code",
   "execution_count": 161,
   "id": "2de7922a",
   "metadata": {},
   "outputs": [],
   "source": [
    "#Split the Dataset\n",
    "x_train, x_test, y_train, y_test=train_test_split(x,y,test_size=0.2, random_state=0)"
   ]
  },
  {
   "cell_type": "code",
   "execution_count": 162,
   "id": "9d3da42c",
   "metadata": {},
   "outputs": [
    {
     "data": {
      "text/plain": [
       "5345"
      ]
     },
     "execution_count": 162,
     "metadata": {},
     "output_type": "execute_result"
    }
   ],
   "source": [
    "len(x_test)"
   ]
  },
  {
   "cell_type": "code",
   "execution_count": 163,
   "id": "d56107f3",
   "metadata": {},
   "outputs": [],
   "source": [
    "#Set up intended models to run\n",
    "lm  = LinearRegression()\n",
    "gbm = GradientBoostingRegressor()\n",
    "#lr = LogisticRegression()\n",
    "rf = RandomForestRegressor()\n",
    "sv = SVR()"
   ]
  },
  {
   "cell_type": "code",
   "execution_count": 164,
   "id": "cd709947",
   "metadata": {},
   "outputs": [],
   "source": [
    "ransac = RANSACRegressor(LinearRegression(),\n",
    "                        max_trials=20,\n",
    "                        min_samples=50,\n",
    "                        residual_threshold=5.0,\n",
    "                        random_state=0)"
   ]
  },
  {
   "cell_type": "code",
   "execution_count": 165,
   "id": "95454a1f",
   "metadata": {},
   "outputs": [
    {
     "data": {
      "text/plain": [
       "SVR()"
      ]
     },
     "execution_count": 165,
     "metadata": {},
     "output_type": "execute_result"
    }
   ],
   "source": [
    "#Fit Training Data\n",
    "ransac.fit(x_train, y_train)\n",
    "lm.fit(x_train, y_train)\n",
    "rf.fit(x_train, y_train)\n",
    "gbm.fit(x_train, y_train)\n",
    "sv.fit(x_train, y_train)"
   ]
  },
  {
   "cell_type": "code",
   "execution_count": 166,
   "id": "119f0ded",
   "metadata": {},
   "outputs": [],
   "source": [
    "#Predict Test data\n",
    "rf_pred=rf.predict(x_test)\n",
    "ran_pred=ransac.predict(x_test)\n",
    "sv_pred=sv.predict(x_test)\n",
    "lm_pred=lm.predict(x_test)\n",
    "gbm_pred=gbm.predict(x_test)"
   ]
  },
  {
   "cell_type": "code",
   "execution_count": 167,
   "id": "e7636208",
   "metadata": {},
   "outputs": [
    {
     "name": "stdout",
     "output_type": "stream",
     "text": [
      "RAN MAE: 1.29\n",
      "RAN RMSE: 1.92\n",
      "LM MAE: 1.26\n",
      "LM RMSE: 1.91\n",
      "SV MAE: 1.27\n",
      "SV RMSE: 1.94\n",
      "GBM MAE: 1.27\n",
      "GBM RMSE: 1.91\n",
      "RF MAE: 1.31\n",
      "RF RMSE: 1.97\n"
     ]
    }
   ],
   "source": [
    "#Calculate Mean absolute and squared errors\n",
    "\n",
    "ran_mae = mean_absolute_error(ran_pred, y_test)\n",
    "ran_rmse = np.sqrt(mean_squared_error(ran_pred, y_test))\n",
    "print(\"RAN MAE: {:.2f}\".format(round(ran_mae, 2)))\n",
    "print(\"RAN RMSE: {:.2f}\".format(round(ran_rmse, 2)))\n",
    "lm_mae = mean_absolute_error(lm_pred, y_test)\n",
    "lm_rmse = np.sqrt(mean_squared_error(lm_pred, y_test))\n",
    "print(\"LM MAE: {:.2f}\".format(round(lm_mae, 2)))\n",
    "print(\"LM RMSE: {:.2f}\".format(round(lm_rmse, 2)))\n",
    "sv_mae = mean_absolute_error(sv_pred, y_test)\n",
    "sv_rmse = np.sqrt(mean_squared_error(sv_pred, y_test))\n",
    "print(\"SV MAE: {:.2f}\".format(round(sv_mae, 2)))\n",
    "print(\"SV RMSE: {:.2f}\".format(round(sv_rmse, 2)))\n",
    "gbm_mae = mean_absolute_error(gbm_pred, y_test)\n",
    "gbm_rmse = np.sqrt(mean_squared_error(gbm_pred, y_test))\n",
    "print(\"GBM MAE: {:.2f}\".format(round(gbm_mae, 2)))\n",
    "print(\"GBM RMSE: {:.2f}\".format(round(gbm_rmse, 2)))\n",
    "rf_mae = mean_absolute_error(rf_pred, y_test)\n",
    "rf_rmse = np.sqrt(mean_squared_error(rf_pred, y_test))\n",
    "print(\"RF MAE: {:.2f}\".format(round(rf_mae, 2)))\n",
    "print(\"RF RMSE: {:.2f}\".format(round(rf_rmse, 2)))"
   ]
  },
  {
   "cell_type": "code",
   "execution_count": 168,
   "id": "474764c9",
   "metadata": {},
   "outputs": [],
   "source": [
    "from tabulate import tabulate"
   ]
  },
  {
   "cell_type": "code",
   "execution_count": 169,
   "id": "cecf9cea",
   "metadata": {},
   "outputs": [],
   "source": [
    "#Tabulate the data\n",
    "table = [['Linear Regression', 'MAE', round(lm_mae,2)], \n",
    "         ['-', 'RMSE', round(lm_rmse,2)], \n",
    "         ['Gradient Boosting Machine', \"MAE\", round(gbm_mae,2)], \n",
    "         ['-', 'RMSE', round(gbm_rmse,2)], \n",
    "         ['Support Vector Regression', \"MAE\", round(sv_mae,2)], \n",
    "         ['-', 'RMSE', round(sv_rmse,2)], \n",
    "         ['RANSAC Regression', \"MAE\", round(ran_mae,2)], \n",
    "         ['-', 'RMSE', round(ran_rmse,2)], \n",
    "         ['Random Forest Regression', \"MAE\", round(rf_mae,2)],\n",
    "         ['-', 'RMSE', round(rf_rmse,2)]]"
   ]
  },
  {
   "cell_type": "code",
   "execution_count": 170,
   "id": "b0ed50a7",
   "metadata": {},
   "outputs": [
    {
     "name": "stdout",
     "output_type": "stream",
     "text": [
      "-------------------------  ----  ----\n",
      "Linear Regression          MAE   1.26\n",
      "-                          RMSE  1.91\n",
      "Gradient Boosting Machine  MAE   1.27\n",
      "-                          RMSE  1.91\n",
      "Support Vector Regression  MAE   1.27\n",
      "-                          RMSE  1.94\n",
      "RANSAC Regression          MAE   1.29\n",
      "-                          RMSE  1.92\n",
      "Random Forest Regression   MAE   1.31\n",
      "-                          RMSE  1.97\n",
      "-------------------------  ----  ----\n"
     ]
    }
   ],
   "source": [
    "print(tabulate(table))"
   ]
  },
  {
   "cell_type": "code",
   "execution_count": 171,
   "id": "b0d41603",
   "metadata": {
    "scrolled": true
   },
   "outputs": [
    {
     "name": "stdout",
     "output_type": "stream",
     "text": [
      "╒═══════════════════════════╤══════╤══════╕\n",
      "│ Linear Regression         │ MAE  │ 1.26 │\n",
      "├───────────────────────────┼──────┼──────┤\n",
      "│ -                         │ RMSE │ 1.91 │\n",
      "├───────────────────────────┼──────┼──────┤\n",
      "│ Gradient Boosting Machine │ MAE  │ 1.27 │\n",
      "├───────────────────────────┼──────┼──────┤\n",
      "│ -                         │ RMSE │ 1.91 │\n",
      "├───────────────────────────┼──────┼──────┤\n",
      "│ Support Vector Regression │ MAE  │ 1.27 │\n",
      "├───────────────────────────┼──────┼──────┤\n",
      "│ -                         │ RMSE │ 1.94 │\n",
      "├───────────────────────────┼──────┼──────┤\n",
      "│ RANSAC Regression         │ MAE  │ 1.29 │\n",
      "├───────────────────────────┼──────┼──────┤\n",
      "│ -                         │ RMSE │ 1.92 │\n",
      "├───────────────────────────┼──────┼──────┤\n",
      "│ Random Forest Regression  │ MAE  │ 1.31 │\n",
      "├───────────────────────────┼──────┼──────┤\n",
      "│ -                         │ RMSE │ 1.97 │\n",
      "╘═══════════════════════════╧══════╧══════╛\n"
     ]
    }
   ],
   "source": [
    "print(tabulate(table, tablefmt='fancy_grid'))"
   ]
  },
  {
   "cell_type": "code",
   "execution_count": 172,
   "id": "ef847572",
   "metadata": {},
   "outputs": [
    {
     "name": "stdout",
     "output_type": "stream",
     "text": [
      "╒═══════════════════════════╤══════╤══════╕\n",
      "│ Linear Regression         │ MAE  │ 1.26 │\n",
      "├───────────────────────────┼──────┼──────┤\n",
      "│ -                         │ RMSE │ 1.91 │\n",
      "├───────────────────────────┼──────┼──────┤\n",
      "│ Gradient Boosting Machine │ MAE  │ 1.27 │\n",
      "├───────────────────────────┼──────┼──────┤\n",
      "│ -                         │ RMSE │ 1.91 │\n",
      "├───────────────────────────┼──────┼──────┤\n",
      "│ Support Vector Regression │ MAE  │ 1.27 │\n",
      "├───────────────────────────┼──────┼──────┤\n",
      "│ -                         │ RMSE │ 1.94 │\n",
      "├───────────────────────────┼──────┼──────┤\n",
      "│ RANSAC Regression         │ MAE  │ 1.29 │\n",
      "├───────────────────────────┼──────┼──────┤\n",
      "│ -                         │ RMSE │ 1.92 │\n",
      "├───────────────────────────┼──────┼──────┤\n",
      "│ Random Forest Regression  │ MAE  │ 1.31 │\n",
      "├───────────────────────────┼──────┼──────┤\n",
      "│ -                         │ RMSE │ 1.97 │\n",
      "╘═══════════════════════════╧══════╧══════╛\n"
     ]
    }
   ],
   "source": [
    "print(tabulate(table, tablefmt='fancy_grid'))"
   ]
  },
  {
   "cell_type": "code",
   "execution_count": null,
   "id": "c71ebff3",
   "metadata": {},
   "outputs": [],
   "source": []
  }
 ],
 "metadata": {
  "kernelspec": {
   "display_name": "Python 3 (ipykernel)",
   "language": "python",
   "name": "python3"
  },
  "language_info": {
   "codemirror_mode": {
    "name": "ipython",
    "version": 3
   },
   "file_extension": ".py",
   "mimetype": "text/x-python",
   "name": "python",
   "nbconvert_exporter": "python",
   "pygments_lexer": "ipython3",
   "version": "3.9.13"
  }
 },
 "nbformat": 4,
 "nbformat_minor": 5
}
